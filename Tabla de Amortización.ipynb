{
 "cells": [
  {
   "cell_type": "code",
   "execution_count": null,
   "metadata": {},
   "outputs": [],
   "source": [
    "Tabla = int(input(\"Ingrese la tabla: \"))\n",
    "for i in range (1,11):\n",
    "    print(Tabla, ' * ', i, ' = ', i * Tabla)"
   ]
  },
  {
   "cell_type": "code",
   "execution_count": null,
   "metadata": {},
   "outputs": [],
   "source": [
    "for i in range (1,11):\n",
    "    print(\"\\nTabla de Multplicar del \", i)\n",
    "    for j in range (1,11):\n",
    "        print(i, ' * ', j, ' = ', i * j)"
   ]
  },
  {
   "cell_type": "code",
   "execution_count": null,
   "metadata": {},
   "outputs": [],
   "source": [
    "k=1\n",
    "while k != 11:\n",
    "    print(k)\n",
    "#    k = k + 1\n",
    "    k += 1"
   ]
  },
  {
   "cell_type": "code",
   "execution_count": 1,
   "metadata": {},
   "outputs": [
    {
     "name": "stdout",
     "output_type": "stream",
     "text": [
      "Deuda: 2000000\n",
      "Tasa de Interes: 1.7\n",
      "Numero de Periodos: 12\n",
      "1 | 3400000.0 | 22.652526159770787 | 1999977.3474738402\n",
      "2 | 3399961.4907055283 | 61.16182063147426 | 1999916.1856532088\n",
      "3 | 3399857.5156104546 | 165.13691570516676 | 1999751.0487375036\n",
      "4 | 3399576.782853756 | 445.86967240367085 | 1999305.1790651\n",
      "5 | 3398818.80441067 | 1203.8481154898182 | 1998101.33094961\n",
      "6 | 3396772.2626143373 | 3250.389911822509 | 1994850.9410377876\n",
      "7 | 3391246.599764239 | 8776.052761920728 | 1986074.8882758669\n",
      "8 | 3376327.310068974 | 23695.342457185965 | 1962379.545818681\n",
      "9 | 3336045.2278917576 | 63977.42463440215 | 1898402.1211842787\n",
      "10 | 3227283.606013274 | 172739.04651288595 | 1725663.0746713928\n",
      "11 | 2933627.2269413676 | 466395.42558479216 | 1259267.6490866006\n",
      "12 | 2140755.003447221 | 1259267.6490789386 | 7.661990821361542e-06\n"
     ]
    }
   ],
   "source": [
    "D = float(input(\"Deuda: \"))\n",
    "T = float(input(\"Tasa de Interes: \"))\n",
    "N = int(input(\"Numero de Periodos: \"))\n",
    "R = (D*T) / (1 - pow((1+T),-N))\n",
    "K = 0\n",
    "while K != N:\n",
    "    I = D * T\n",
    "    A = R - I\n",
    "    D = D - A\n",
    "    K += 1\n",
    "    print (K, \"|\", I, \"|\", A, \"|\", D)"
   ]
  },
  {
   "cell_type": "code",
   "execution_count": 6,
   "metadata": {},
   "outputs": [
    {
     "name": "stdout",
     "output_type": "stream",
     "text": [
      "Deuda: 2000000\n",
      "Tasa de Interes: 1.7\n",
      "Numero de Periodos: 12\n",
      "3400000.0\n",
      "22.652526159770787\n",
      "1999977.3474738402\n",
      "1\n",
      "3399961.4907055283\n",
      "61.16182063147426\n",
      "1999916.1856532088\n",
      "2\n",
      "3399857.5156104546\n",
      "165.13691570516676\n",
      "1999751.0487375036\n",
      "3\n",
      "3399576.782853756\n",
      "445.86967240367085\n",
      "1999305.1790651\n",
      "4\n",
      "3398818.80441067\n",
      "1203.8481154898182\n",
      "1998101.33094961\n",
      "5\n",
      "3396772.2626143373\n",
      "3250.389911822509\n",
      "1994850.9410377876\n",
      "6\n",
      "3391246.599764239\n",
      "8776.052761920728\n",
      "1986074.8882758669\n",
      "7\n",
      "3376327.310068974\n",
      "23695.342457185965\n",
      "1962379.545818681\n",
      "8\n",
      "3336045.2278917576\n",
      "63977.42463440215\n",
      "1898402.1211842787\n",
      "9\n",
      "3227283.606013274\n",
      "172739.04651288595\n",
      "1725663.0746713928\n",
      "10\n",
      "2933627.2269413676\n",
      "466395.42558479216\n",
      "1259267.6490866006\n",
      "11\n",
      "2140755.003447221\n",
      "1259267.6490789386\n",
      "7.661990821361542e-06\n",
      "12\n"
     ]
    }
   ],
   "source": [
    "D = float(input(\"Deuda: \"))\n",
    "T = float(input(\"Tasa de Interes: \"))\n",
    "N = int(input(\"Numero de Periodos: \"))\n",
    "R = (D*T) / (1 - pow((1+T),-N))\n",
    "K = 0\n",
    "registros = []\n",
    "while K != N:\n",
    "    I = D * T\n",
    "    A = R - I\n",
    "    D = D - A\n",
    "    K += 1\n",
    "    registros.append(I)\n",
    "    registros.append(A)\n",
    "    registros.append(D)\n",
    "    registros.append(K)\n",
    "    \n",
    "for i in registros:\n",
    "    print (i)"
   ]
  },
  {
   "cell_type": "code",
   "execution_count": null,
   "metadata": {},
   "outputs": [],
   "source": []
  }
 ],
 "metadata": {
  "kernelspec": {
   "display_name": "Python 3",
   "language": "python",
   "name": "python3"
  },
  "language_info": {
   "codemirror_mode": {
    "name": "ipython",
    "version": 3
   },
   "file_extension": ".py",
   "mimetype": "text/x-python",
   "name": "python",
   "nbconvert_exporter": "python",
   "pygments_lexer": "ipython3",
   "version": "3.8.3"
  }
 },
 "nbformat": 4,
 "nbformat_minor": 4
}
